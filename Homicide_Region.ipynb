{
 "cells": [
  {
   "attachments": {},
   "cell_type": "markdown",
   "metadata": {},
   "source": [
    "countries-by-intentional-homicide-rate\n",
    "\n",
    "Matthew Kusto\n",
    "\n",
    "5/16/2023\n",
    "\n",
    "CSIS-126E-1157\n",
    "\n",
    "Final Project"
   ]
  },
  {
   "attachments": {},
   "cell_type": "markdown",
   "metadata": {},
   "source": [
    "## Data imports"
   ]
  },
  {
   "cell_type": "code",
   "execution_count": null,
   "metadata": {},
   "outputs": [],
   "source": [
    "import pandas as pd\n",
    "import matplotlib.pyplot as plt\n",
    "import seaborn as sns"
   ]
  },
  {
   "cell_type": "code",
   "execution_count": null,
   "metadata": {},
   "outputs": [],
   "source": [
    "df = pd.read_csv(\"D:countries-by-intentional-homicide-rate.csv\")\n",
    "df"
   ]
  },
  {
   "cell_type": "code",
   "execution_count": null,
   "metadata": {},
   "outputs": [],
   "source": []
  },
  {
   "attachments": {},
   "cell_type": "markdown",
   "metadata": {},
   "source": [
    "### Describe()"
   ]
  },
  {
   "cell_type": "code",
   "execution_count": null,
   "metadata": {},
   "outputs": [],
   "source": [
    "df.describe()"
   ]
  },
  {
   "attachments": {},
   "cell_type": "markdown",
   "metadata": {},
   "source": [
    "### Info()"
   ]
  },
  {
   "cell_type": "code",
   "execution_count": null,
   "metadata": {},
   "outputs": [],
   "source": [
    "df.info()"
   ]
  },
  {
   "attachments": {},
   "cell_type": "markdown",
   "metadata": {},
   "source": [
    "### Head()"
   ]
  },
  {
   "cell_type": "code",
   "execution_count": null,
   "metadata": {},
   "outputs": [],
   "source": [
    "df.head()"
   ]
  },
  {
   "attachments": {},
   "cell_type": "markdown",
   "metadata": {},
   "source": [
    "### Tail()"
   ]
  },
  {
   "cell_type": "code",
   "execution_count": null,
   "metadata": {},
   "outputs": [],
   "source": [
    "df.tail()"
   ]
  },
  {
   "attachments": {},
   "cell_type": "markdown",
   "metadata": {},
   "source": [
    "### Data"
   ]
  },
  {
   "cell_type": "code",
   "execution_count": null,
   "metadata": {},
   "outputs": [],
   "source": [
    "\n",
    "Americas = df[(df['Rate'] > 0) & (df['Count'] < 15000) & (df['Region'] == 'Americas')] # Rate is greater than 10 and Count is less than 40k\n",
    "Asia = df[(df['Rate'] > 0) & (df['Count'] < 15000) & (df['Region'] == 'Asia')]\n",
    "\n",
    "# Used in Boxplot, Scatter, hist\n",
    "amer = df[df[\"Region\"] == \"Americas\"]\n",
    "amer_count = df[(df[\"Region\"] == \"Americas\") & (df[\"Count\"] < 1300)]\n",
    "\n",
    "asi = df[df[\"Region\"] == \"Asia\"]\n",
    "asi_count = df[(df[\"Region\"] == \"Asia\") & (df[\"Count\"] < 1300)]\n"
   ]
  },
  {
   "attachments": {},
   "cell_type": "markdown",
   "metadata": {},
   "source": [
    "## Graphs"
   ]
  },
  {
   "attachments": {},
   "cell_type": "markdown",
   "metadata": {},
   "source": [
    "### Histograms"
   ]
  },
  {
   "attachments": {},
   "cell_type": "markdown",
   "metadata": {},
   "source": [
    "How many locations did this happen in?"
   ]
  },
  {
   "attachments": {},
   "cell_type": "markdown",
   "metadata": {},
   "source": [
    "Counts"
   ]
  },
  {
   "cell_type": "code",
   "execution_count": null,
   "metadata": {},
   "outputs": [],
   "source": [
    "plt.title(\"Americas\")\n",
    "plt.hist(amer_count[\"Count\"])\n",
    "plt.xlabel(\"Count\")\n",
    "plt.ylabel(\"Amount of Locations\")\n",
    "plt.show()\n",
    "plt.title(\"Asia\")\n",
    "plt.hist(asi_count[\"Count\"])\n",
    "plt.xlabel(\"Count\")\n",
    "plt.ylabel(\"Amount of Locations\")\n",
    "plt.show()"
   ]
  },
  {
   "attachments": {},
   "cell_type": "markdown",
   "metadata": {},
   "source": [
    "Rates"
   ]
  },
  {
   "cell_type": "code",
   "execution_count": null,
   "metadata": {},
   "outputs": [],
   "source": [
    "plt.title(\"Americas\")\n",
    "plt.hist(amer_count[\"Rate\"])\n",
    "plt.xlabel(\"Rate\")\n",
    "plt.ylabel(\"Amount of Locations\")\n",
    "plt.show()\n",
    "plt.title(\"Asia\")\n",
    "plt.hist(asi_count[\"Rate\"])\n",
    "plt.xlabel(\"Rate\")\n",
    "plt.ylabel(\"Amount of Locations\")\n",
    "plt.show()"
   ]
  },
  {
   "attachments": {},
   "cell_type": "markdown",
   "metadata": {},
   "source": [
    "### BoxPlots"
   ]
  },
  {
   "attachments": {},
   "cell_type": "markdown",
   "metadata": {},
   "source": [
    "The asian region had some outliers, removed anything over 1300, remained constant. I wanted to see what the median would be for the count and rate in the two regions.\n",
    "The data for the americas and asia is more skewed towards the bottom. However, in the americas they seem to have a higher rate for homicide with the median being ~11. The count also for the americas is more towards the bottom, but the data is more spread out. So, while in the americas, there is a higher homicide rate and count rate. "
   ]
  },
  {
   "cell_type": "code",
   "execution_count": null,
   "metadata": {},
   "outputs": [],
   "source": [
    "plt.boxplot(amer_count[\"Count\"])\n",
    "plt.title(\"Americas\")\n",
    "plt.ylabel(\"Count\")\n",
    "plt.show()\n",
    "plt.boxplot(asi_count[\"Count\"])\n",
    "plt.title(\"Asia\")\n",
    "plt.ylabel(\"Count\")\n",
    "plt.show()"
   ]
  },
  {
   "cell_type": "code",
   "execution_count": null,
   "metadata": {},
   "outputs": [],
   "source": [
    "# from the slice of 1300 count (Outliers above this point)\n",
    "\n",
    "plt.boxplot(amer_count[\"Rate\"])\n",
    "plt.title(\"Americas\")\n",
    "plt.ylabel(\"Americas Rate\")\n",
    "plt.show()\n",
    "plt.boxplot(asi_count[\"Rate\"])\n",
    "plt.title(\"Asia\")\n",
    "plt.ylabel(\"Asia Rate\")\n",
    "plt.show()"
   ]
  },
  {
   "attachments": {},
   "cell_type": "markdown",
   "metadata": {},
   "source": [
    "### ScatterPlot"
   ]
  },
  {
   "attachments": {},
   "cell_type": "markdown",
   "metadata": {},
   "source": [
    "When comparing rate and count among the regions, the rate is more clustered towards the bottom for the americas showing that the count is in the lower numbers but happens for more often. For the asian region, its more clustered in bounds of x = 2 and y = 400. The count is higher, but the rate is slower. "
   ]
  },
  {
   "cell_type": "code",
   "execution_count": null,
   "metadata": {},
   "outputs": [],
   "source": [
    "sns.scatterplot(x=(amer_count[\"Rate\"]), y=amer_count[\"Count\"], data = amer)\n",
    "plt.title(\"Americas Homicide Rate and Count\")"
   ]
  },
  {
   "cell_type": "code",
   "execution_count": null,
   "metadata": {},
   "outputs": [],
   "source": [
    "sns.scatterplot(x=asi_count[\"Rate\"], y=(asi_count[\"Count\"]), data = asi)\n",
    "plt.title(\"Asia Homicide Rate and Count\")"
   ]
  },
  {
   "attachments": {},
   "cell_type": "markdown",
   "metadata": {},
   "source": [
    "### Regression"
   ]
  },
  {
   "attachments": {},
   "cell_type": "markdown",
   "metadata": {},
   "source": [
    "The regression is meant to show the relationship between a dependent variable (y) and a series ofother variables known as independent variables\n",
    "- for the sliced americas data anything around the line is going to be correlated, the same applies to the sliced asia data\n",
    "- shows that the higher the homicide count is, the slower it will take place"
   ]
  },
  {
   "cell_type": "code",
   "execution_count": null,
   "metadata": {},
   "outputs": [],
   "source": [
    "sns.regplot(x=\"Count\", y=\"Rate\", data=amer_count)\n",
    "plt.title(\"Americas Regression\")"
   ]
  },
  {
   "cell_type": "code",
   "execution_count": null,
   "metadata": {},
   "outputs": [],
   "source": [
    "sns.regplot(x=\"Count\", y=\"Rate\", data=asi_count)\n",
    "plt.title(\"Asia Regression\")"
   ]
  },
  {
   "attachments": {},
   "cell_type": "markdown",
   "metadata": {},
   "source": [
    "### PairPlot"
   ]
  },
  {
   "cell_type": "code",
   "execution_count": null,
   "metadata": {},
   "outputs": [],
   "source": [
    "sns.pairplot(amer_count, hue=\"Year\")"
   ]
  },
  {
   "cell_type": "code",
   "execution_count": null,
   "metadata": {},
   "outputs": [],
   "source": [
    "sns.pairplot(asi_count, hue=\"Year\")"
   ]
  },
  {
   "cell_type": "code",
   "execution_count": null,
   "metadata": {},
   "outputs": [],
   "source": [
    "sns.pairplot(df)"
   ]
  }
 ],
 "metadata": {
  "kernelspec": {
   "display_name": ".venv",
   "language": "python",
   "name": "python3"
  },
  "language_info": {
   "codemirror_mode": {
    "name": "ipython",
    "version": 3
   },
   "file_extension": ".py",
   "mimetype": "text/x-python",
   "name": "python",
   "nbconvert_exporter": "python",
   "pygments_lexer": "ipython3",
   "version": "3.11.5"
  },
  "orig_nbformat": 4
 },
 "nbformat": 4,
 "nbformat_minor": 2
}
